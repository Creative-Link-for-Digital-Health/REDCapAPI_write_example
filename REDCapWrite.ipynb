{
 "cells": [
  {
   "cell_type": "code",
   "execution_count": 20,
   "metadata": {},
   "outputs": [],
   "source": [
    "import requests\n",
    "import uuid_utils as uuid\n",
    "\n",
    "from dotenv import dotenv_values\n",
    "config = dotenv_values(\".env\")"
   ]
  },
  {
   "cell_type": "code",
   "execution_count": 21,
   "metadata": {},
   "outputs": [],
   "source": [
    "# Create unique record id. If need to write to a specific record, target here\n",
    "\n",
    "record_id = str(uuid.uuid4())\n",
    "send_data = '[{\"record_id\":\"'+ record_id + '\", \"user_id\":\"Your-User-ID-here\"}]'"
   ]
  },
  {
   "cell_type": "code",
   "execution_count": 22,
   "metadata": {},
   "outputs": [],
   "source": [
    "post_data = {\n",
    "    'token': config['REDCAP_API_KEY'],\n",
    "    'content': 'record',\n",
    "    'action': 'import',\n",
    "    'format': 'json',\n",
    "    'type': 'flat',\n",
    "    'overwriteBehavior': 'normal',\n",
    "    'forceAutoNumber': 'false',\n",
    "    'data': send_data ,\n",
    "    'returnContent': 'count',\n",
    "    'returnFormat': 'json'\n",
    "}"
   ]
  },
  {
   "cell_type": "code",
   "execution_count": 23,
   "metadata": {},
   "outputs": [
    {
     "name": "stdout",
     "output_type": "stream",
     "text": [
      "HTTP Status: 200\n",
      "https://redcap.uky.edu/redcap/api/\n",
      "{'User-Agent': 'python-requests/2.31.0', 'Accept-Encoding': 'gzip, deflate, br', 'Accept': '*/*', 'Connection': 'keep-alive', 'Content-Type': 'application/x-www-form-urlencoded', 'Content-Length': '295'}\n",
      "token=C1A72302B7004CAC79A1769811ED0429&content=record&action=import&format=json&type=flat&overwriteBehavior=normal&forceAutoNumber=false&data=%5B%7B%22record_id%22%3A%2251654fa4-ac10-477c-843d-9dde90954f9c%22%2C+%22user_id%22%3A%22Your-User-ID-here%22%7D%5D&returnContent=count&returnFormat=json\n",
      "{'count': 1}\n"
     ]
    }
   ],
   "source": [
    "headers = {'Content-Type': 'application/x-www-form-urlencoded'}\n",
    "r = requests.post(config['REDCAP_API_ENDPOINT'],headers=headers, data=post_data)\n",
    "print('HTTP Status: ' + str(r.status_code))\n",
    "print(r.request.url)\n",
    "print(r.request.headers)\n",
    "print(r.request.body)\n",
    "print(r.json())"
   ]
  }
 ],
 "metadata": {
  "kernelspec": {
   "display_name": "base",
   "language": "python",
   "name": "python3"
  },
  "language_info": {
   "codemirror_mode": {
    "name": "ipython",
    "version": 3
   },
   "file_extension": ".py",
   "mimetype": "text/x-python",
   "name": "python",
   "nbconvert_exporter": "python",
   "pygments_lexer": "ipython3",
   "version": "3.12.2"
  }
 },
 "nbformat": 4,
 "nbformat_minor": 2
}
