{
 "cells": [
  {
   "cell_type": "code",
   "execution_count": 6,
   "metadata": {},
   "outputs": [],
   "source": [
    "import requests\n",
    "import uuid_utils as uuid\n",
    "\n",
    "from dotenv import dotenv_values\n",
    "config = dotenv_values(\".env\")"
   ]
  },
  {
   "cell_type": "code",
   "execution_count": 7,
   "metadata": {},
   "outputs": [],
   "source": [
    "# Create unique record id. if need to write to a specific record, target here\n",
    "\n",
    "record_id = str(uuid.uuid4())\n",
    "send_data = '[{\"record_id\":\"'+ record_id + '\", \"user_id\":\"User-ID-here\"}]'"
   ]
  },
  {
   "cell_type": "code",
   "execution_count": 8,
   "metadata": {},
   "outputs": [],
   "source": [
    "post_data = {\n",
    "    'token': config['REDCAP_API_KEY'],\n",
    "    'content': 'record',\n",
    "    'action': 'import',\n",
    "    'format': 'json',\n",
    "    'type': 'flat',\n",
    "    'overwriteBehavior': 'normal',\n",
    "    'forceAutoNumber': 'false',\n",
    "    'data': send_data ,\n",
    "    'returnContent': 'count',\n",
    "    'returnFormat': 'json'\n",
    "}"
   ]
  },
  {
   "cell_type": "code",
   "execution_count": 9,
   "metadata": {},
   "outputs": [
    {
     "name": "stdout",
     "output_type": "stream",
     "text": [
      "HTTP Status: 200\n",
      "{'count': 1}\n"
     ]
    }
   ],
   "source": [
    "r = requests.post(config['REDCAP_API_ENDPOINT'],data=post_data)\n",
    "print('HTTP Status: ' + str(r.status_code))\n",
    "print(r.json())"
   ]
  }
 ],
 "metadata": {
  "kernelspec": {
   "display_name": "base",
   "language": "python",
   "name": "python3"
  },
  "language_info": {
   "codemirror_mode": {
    "name": "ipython",
    "version": 3
   },
   "file_extension": ".py",
   "mimetype": "text/x-python",
   "name": "python",
   "nbconvert_exporter": "python",
   "pygments_lexer": "ipython3",
   "version": "3.12.2"
  }
 },
 "nbformat": 4,
 "nbformat_minor": 2
}
